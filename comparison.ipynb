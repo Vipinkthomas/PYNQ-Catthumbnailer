{
 "cells": [
  {
   "cell_type": "code",
   "execution_count": 1,
   "metadata": {},
   "outputs": [],
   "source": [
    "from PIL import Image\n",
    "import PIL\n",
    "import numpy as np\n",
    "import time\n",
    "import matplotlib.pyplot as plt\n",
    "%matplotlib inline\n",
    "import pickle"
   ]
  },
  {
   "cell_type": "code",
   "execution_count": 2,
   "metadata": {},
   "outputs": [],
   "source": [
    "data='data.pickle'\n",
    "with open(data,'rb') as f:\n",
    "    speedups = pickle.load(f)"
   ]
  },
  {
   "cell_type": "code",
   "execution_count": 78,
   "metadata": {},
   "outputs": [],
   "source": [
    "# x=[]\n",
    "# y=[]\n",
    "# z=[]\n",
    "# for i in range(len(speedups)):\n",
    "#     x.append(speedups[i][0])\n",
    "#     y.append(speedups[i][1])\n",
    "#     z.append(speedups[i][2])"
   ]
  },
  {
   "cell_type": "code",
   "execution_count": 3,
   "metadata": {},
   "outputs": [],
   "source": [
    "speedups_fpga=[s for s in speedups if s[2]>1]\n",
    "# speedups_cpu={s for s in speedups if s[2]<1}\n",
    "speedups_cpu=[s for s in speedups if s[2]<1]"
   ]
  },
  {
   "cell_type": "code",
   "execution_count": 4,
   "metadata": {},
   "outputs": [],
   "source": [
    "x=[]\n",
    "y=[]\n",
    "z=[]\n",
    "for i in range(len(speedups_fpga)):\n",
    "    x.append(speedups_fpga[i][0])\n",
    "    y.append(speedups_fpga[i][1])\n",
    "    z.append(speedups_fpga[i][2])"
   ]
  },
  {
   "cell_type": "code",
   "execution_count": 5,
   "metadata": {},
   "outputs": [],
   "source": [
    "xc=[]\n",
    "yc=[]\n",
    "zc=[]\n",
    "for i in range(len(speedups_cpu)):\n",
    "    xc.append(speedups_cpu[i][0])\n",
    "    yc.append(speedups_cpu[i][1])\n",
    "    zc.append(speedups_cpu[i][2])"
   ]
  },
  {
   "cell_type": "code",
   "execution_count": 9,
   "metadata": {},
   "outputs": [],
   "source": [
    "import matplotlib.pyplot as plt\n",
    "from mpl_toolkits.mplot3d import Axes3D\n",
    "%matplotlib widget"
   ]
  },
  {
   "cell_type": "code",
   "execution_count": 10,
   "metadata": {},
   "outputs": [
    {
     "data": {
      "application/vnd.jupyter.widget-view+json": {
       "model_id": "8ff8c6fbb87d48d29637cdbc19bcb08e",
       "version_major": 2,
       "version_minor": 0
      },
      "text/plain": [
       "Canvas(toolbar=Toolbar(toolitems=[('Home', 'Reset original view', 'home', 'home'), ('Back', 'Back to previous …"
      ]
     },
     "metadata": {},
     "output_type": "display_data"
    }
   ],
   "source": [
    "fig = plt.figure()\n",
    "ax = Axes3D(fig)\n",
    "xs,ys,zs =x,y,z\n",
    "ax.scatter(xs,ys,zs,marker='o',label='fpga')\n",
    "xs,ys,zs =xc,yc,zc\n",
    "ax.scatter(xs,ys,zs,marker='*',label='cpu')\n",
    "plt.xlabel('pixels in')\n",
    "plt.ylabel('pixels out')\n",
    "plt.legend()\n",
    "plt.show()"
   ]
  },
  {
   "cell_type": "code",
   "execution_count": null,
   "metadata": {},
   "outputs": [],
   "source": [
    "        "
   ]
  }
 ],
 "metadata": {
  "kernelspec": {
   "display_name": "Python 3",
   "language": "python",
   "name": "python3"
  },
  "language_info": {
   "codemirror_mode": {
    "name": "ipython",
    "version": 3
   },
   "file_extension": ".py",
   "mimetype": "text/x-python",
   "name": "python",
   "nbconvert_exporter": "python",
   "pygments_lexer": "ipython3",
   "version": "3.8.5"
  }
 },
 "nbformat": 4,
 "nbformat_minor": 4
}
